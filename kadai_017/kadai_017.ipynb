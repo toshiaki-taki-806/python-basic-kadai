{
  "nbformat": 4,
  "nbformat_minor": 0,
  "metadata": {
    "colab": {
      "provenance": []
    },
    "kernelspec": {
      "name": "python3",
      "display_name": "Python 3"
    },
    "language_info": {
      "name": "python"
    }
  },
  "cells": [
    {
      "cell_type": "code",
      "execution_count": 11,
      "metadata": {
        "colab": {
          "base_uri": "https://localhost:8080/"
        },
        "id": "gVKdH_gB83Gd",
        "outputId": "d23b6156-20d4-47c8-8d22-085c1970768a"
      },
      "outputs": [
        {
          "output_type": "stream",
          "name": "stdout",
          "text": [
            "aki is adlut.\n",
            "sei is adlut.\n",
            "hitomi is child.\n"
          ]
        }
      ],
      "source": [
        "class Human:\n",
        "    def __init__(self, name, age):\n",
        "        self.name = name\n",
        "        self.age = age\n",
        "\n",
        "    def check_adult(self):\n",
        "        if self.age >= 20:\n",
        "            print(f\"{self.name} is adlut.\")\n",
        "        else:\n",
        "            print(f\"{self.name} is child.\")\n",
        "\n",
        "\n",
        "humans = []\n",
        "humans.append(Human(\"aki\", 36))\n",
        "humans.append(Human(\"sei\", 20))\n",
        "humans.append(Human(\"hitomi\", 6))\n",
        "\n",
        "for human in humans:\n",
        "    human.check_adult()\n",
        "\n"
      ]
    }
  ]
}