{
  "nbformat": 4,
  "nbformat_minor": 0,
  "metadata": {
    "colab": {
      "provenance": []
    },
    "kernelspec": {
      "name": "python3",
      "display_name": "Python 3"
    },
    "language_info": {
      "name": "python"
    }
  },
  "cells": [
    {
      "cell_type": "code",
      "execution_count": 1,
      "metadata": {
        "colab": {
          "base_uri": "https://localhost:8080/"
        },
        "id": "alNj3Q2Luc8R",
        "outputId": "2f485e82-074a-4c6a-d1da-ceeeaa5bcb79"
      },
      "outputs": [
        {
          "output_type": "execute_result",
          "data": {
            "text/plain": [
              "1320.0"
            ]
          },
          "metadata": {},
          "execution_count": 1
        }
      ],
      "source": [
        "def add_tax(price, tax_rate):\n",
        "    total = price * (1 + tax_rate / 100)\n",
        "\n",
        "    return total\n",
        "\n",
        "add_tax(1200, 10)\n",
        "\n"
      ]
    }
  ]
}